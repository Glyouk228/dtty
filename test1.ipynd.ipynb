{
 "cells": [
  {
   "cell_type": "code",
   "execution_count": 3,
   "metadata": {},
   "outputs": [],
   "source": [
    "import numpy  as np"
   ]
  },
  {
   "cell_type": "code",
   "execution_count": 3,
   "metadata": {},
   "outputs": [
    {
     "name": "stdout",
     "output_type": "stream",
     "text": [
      "R =746932.9\n"
     ]
    }
   ],
   "source": [
    "t = float(input('Введите значение для переменной t'))\n",
    "l = float(input('Введите значение для переменной l'))\n",
    "\n",
    "print(f'R ={3 * np.power(t,2) + 3 * np.power(l,5) + 4.9}')"
   ]
  },
  {
   "cell_type": "code",
   "execution_count": 4,
   "metadata": {},
   "outputs": [],
   "source": [
    "class MyClassTask1:\n",
    "    def __init__(self, t, l):\n",
    "        self.t = t\n",
    "        self.l = l\n",
    "\n",
    "    def calculate_R(self):\n",
    "        print(f'R ={3 * np.power(t,2) + 3 * np.power(l,5) + 4.9}')"
   ]
  },
  {
   "cell_type": "code",
   "execution_count": 5,
   "metadata": {},
   "outputs": [
    {
     "name": "stdout",
     "output_type": "stream",
     "text": [
      "R =746932.9\n"
     ]
    }
   ],
   "source": [
    "t = float(input('Введите значение для переменной t'))\n",
    "l = float(input('Введите значение для переменной l'))\n",
    "\n",
    "my_class = MyClassTask1(t,l)\n",
    "my_class.calculate_R()"
   ]
  },
  {
   "cell_type": "code",
   "execution_count": 6,
   "metadata": {},
   "outputs": [
    {
     "name": "stdout",
     "output_type": "stream",
     "text": [
      "K =162758.06372484833\n"
     ]
    }
   ],
   "source": [
    "p = float(input('Введите значение для переменной p'))\n",
    "y = float(input('Введите значение для переменной y'))\n",
    "\n",
    "print(f'K ={np.log10(np.power(p,2) + np.power(y,3)) + np.exp(p)}')"
   ]
  },
  {
   "cell_type": "code",
   "execution_count": 7,
   "metadata": {},
   "outputs": [],
   "source": [
    "class MyClassTask1:\n",
    "    def __init__(self, p, y):\n",
    "        self.p = p\n",
    "        self.y = y\n",
    "\n",
    "    def calculate_K(salf):\n",
    "        print(f'K ={np.log10(np.power(p,2) + np.power(y,3)) + np.exp(p)}')"
   ]
  },
  {
   "cell_type": "code",
   "execution_count": 8,
   "metadata": {},
   "outputs": [
    {
     "name": "stdout",
     "output_type": "stream",
     "text": [
      "K =162758.06372484833\n"
     ]
    }
   ],
   "source": [
    "p = float(input('Введите значение для переменной p'))\n",
    "y = float(input('Введите значение для переменной y'))\n",
    "\n",
    "my_class = MyClassTask1(p,y)\n",
    "my_class.calculate_K()"
   ]
  },
  {
   "cell_type": "code",
   "execution_count": 9,
   "metadata": {},
   "outputs": [
    {
     "name": "stdout",
     "output_type": "stream",
     "text": [
      "G =189.46410161513776\n"
     ]
    }
   ],
   "source": [
    "n = float(input('Введите значение для переменной n'))\n",
    "y = float(input('Введите значение для переменной y'))\n",
    "\n",
    "print(f'G ={n * (y + 3.5) + np.sqrt(y)}')"
   ]
  },
  {
   "cell_type": "code",
   "execution_count": 10,
   "metadata": {},
   "outputs": [],
   "source": [
    "class MyClassTask1:\n",
    "    def __init__(self, n, y):\n",
    "        self.n = n\n",
    "        self.y = y\n",
    "    def calculate_G(self):\n",
    "        print(f'G ={n * (y + 3.5) + np.sqrt(y)}')"
   ]
  },
  {
   "cell_type": "code",
   "execution_count": 11,
   "metadata": {},
   "outputs": [
    {
     "name": "stdout",
     "output_type": "stream",
     "text": [
      "G =189.46410161513776\n"
     ]
    }
   ],
   "source": [
    "n = float(input('Введите значение для переменной n'))\n",
    "y = float(input('Введите значение для переменной y'))\n",
    "\n",
    "my_class = MyClassTask1(n,y)\n",
    "my_class.calculate_G()"
   ]
  },
  {
   "cell_type": "code",
   "execution_count": 12,
   "metadata": {},
   "outputs": [
    {
     "name": "stdout",
     "output_type": "stream",
     "text": [
      "D = 1416.0087336536985\n"
     ]
    }
   ],
   "source": [
    "a = float(input('Введите значение для переменной a'))\n",
    "t = float(input('Введите значение для переменной t'))\n",
    "\n",
    "print(f'D = {9.8 * np.power(a,2) + 5.52 * np.cos(np.power(t,2))}')"
   ]
  },
  {
   "cell_type": "code",
   "execution_count": 13,
   "metadata": {},
   "outputs": [],
   "source": [
    "class MyClassTask1:\n",
    "    def __init__(self, a, t):\n",
    "        self.a = a\n",
    "        self.t = t\n",
    "    def  calculate_D(salf): \n",
    "        print(f'D = {9.8 * np.power(a,2) + 5.52 * np.cos(np.power(t,2))}')"
   ]
  },
  {
   "cell_type": "code",
   "execution_count": 14,
   "metadata": {},
   "outputs": [
    {
     "name": "stdout",
     "output_type": "stream",
     "text": [
      "D = 1416.0087336536985\n"
     ]
    }
   ],
   "source": [
    "a = float(input('Введите значение для переменной a'))\n",
    "t = float(input('Введите значение для переменной t'))\n",
    "\n",
    "my_class = MyClassTask1(a,t)\n",
    "my_class.calculate_D()"
   ]
  },
  {
   "cell_type": "code",
   "execution_count": null,
   "metadata": {},
   "outputs": [
    {
     "name": "stdout",
     "output_type": "stream",
     "text": [
      "L =3457.315432575559\n"
     ]
    }
   ],
   "source": [
    "x = float(input('Введите значение для переменной x'))\n",
    "\n",
    "print(f'L ={1.51 * np.cos(np.power(x,2)) + 2 * np.power(x,3)}')"
   ]
  },
  {
   "cell_type": "code",
   "execution_count": 16,
   "metadata": {},
   "outputs": [],
   "source": [
    "class MyClassTask1:\n",
    "    def __init__(self, x):\n",
    "        self.x = x\n",
    "\n",
    "    def calculate_L(self):\n",
    "        print(f'L ={1.51 * np.cos(np.power(x,2)) + 2 * np.power(x,3)}')"
   ]
  },
  {
   "cell_type": "code",
   "execution_count": 18,
   "metadata": {},
   "outputs": [
    {
     "name": "stdout",
     "output_type": "stream",
     "text": [
      "L =3457.315432575559\n"
     ]
    }
   ],
   "source": [
    "x = float(input('Введите значение для переменной x'))\n",
    "\n",
    "my_class = MyClassTask1(x)\n",
    "my_class.calculate_L()"
   ]
  },
  {
   "cell_type": "code",
   "execution_count": 19,
   "metadata": {},
   "outputs": [
    {
     "name": "stdout",
     "output_type": "stream",
     "text": [
      "M =585917.6732874215\n"
     ]
    }
   ],
   "source": [
    "y = float(input('Введите значение для переменной y'))\n",
    "x = float(input('Введите значение для переменной x'))\n",
    "\n",
    "print(f'M ={np.cos(2 * y) + 3.6 * np.exp(x)}')"
   ]
  },
  {
   "cell_type": "code",
   "execution_count": null,
   "metadata": {},
   "outputs": [],
   "source": [
    "class MyClassTask1:\n",
    "    def __init__(self, y, x):\n",
    "        self.y = y\n",
    "        self.x = x\n",
    "    def calculate_M(self):\n",
    "        print(f'M ={np.cos(2 * y) + 3.6 * np.exp(x)}')"
   ]
  },
  {
   "cell_type": "code",
   "execution_count": null,
   "metadata": {},
   "outputs": [
    {
     "name": "stdout",
     "output_type": "stream",
     "text": [
      "M =585917.6732874215\n"
     ]
    }
   ],
   "source": [
    "y = float(input('Введите значение для переменной y'))\n",
    "x = float(input('Введите значение для переменной x'))\n",
    "\n",
    "my_class = MyClassTask1(y,x)\n",
    "my_class.calculate_M()"
   ]
  },
  {
   "cell_type": "code",
   "execution_count": null,
   "metadata": {},
   "outputs": [
    {
     "name": "stdout",
     "output_type": "stream",
     "text": [
      "N =178.15\n"
     ]
    }
   ],
   "source": [
    "m = float(input('Введите значение для переменной m'))\n",
    "\n",
    "print(f'N ={np.power(m,2) + 2.8 * np.abs(m) + 0.55}')"
   ]
  },
  {
   "cell_type": "code",
   "execution_count": null,
   "metadata": {},
   "outputs": [],
   "source": [
    "class MyClassTask1:\n",
    "    def __init__(self, m):\n",
    "        self.m = m\n",
    "\n",
    "    def calculate_N(self):\n",
    "        print(f'N ={np.power(m,2) + 2.8 * np.abs(m) + 0.55}')"
   ]
  },
  {
   "cell_type": "code",
   "execution_count": null,
   "metadata": {},
   "outputs": [
    {
     "name": "stdout",
     "output_type": "stream",
     "text": [
      "N =178.15\n"
     ]
    }
   ],
   "source": [
    "m = float(input('Введите значение для переменной m'))\n",
    "\n",
    "my_class = MyClassTask1(m)\n",
    "my_class.calculate_N()"
   ]
  },
  {
   "cell_type": "code",
   "execution_count": null,
   "metadata": {},
   "outputs": [
    {
     "name": "stdout",
     "output_type": "stream",
     "text": [
      "T =29.441467354736243\n"
     ]
    }
   ],
   "source": [
    "y = float(input('Введите значение для переменной y'))\n",
    "\n",
    "print(f'T ={np.sqrt(np.abs(6 * np.power(y,2) - 0.1 * y +4 ))}')"
   ]
  },
  {
   "cell_type": "code",
   "execution_count": null,
   "metadata": {},
   "outputs": [],
   "source": [
    "class MyClassTask1:\n",
    "    def __init__(self, y):\n",
    "        self.y = y\n",
    "\n",
    "    def calculate_T(self):\n",
    "        print(f'T ={np.sqrt(np.abs(6 * np.power(y,2) - 0.1 * y +4 ))}')"
   ]
  },
  {
   "cell_type": "code",
   "execution_count": null,
   "metadata": {},
   "outputs": [
    {
     "name": "stdout",
     "output_type": "stream",
     "text": [
      "T =29.441467354736243\n"
     ]
    }
   ],
   "source": [
    "y = float(input('Введите значение для переменной y'))\n",
    "\n",
    "my_class = MyClassTask1(y)\n",
    "my_class.calculate_T()"
   ]
  },
  {
   "cell_type": "code",
   "execution_count": null,
   "metadata": {},
   "outputs": [
    {
     "name": "stdout",
     "output_type": "stream",
     "text": [
      "V =2.1088842108278874\n"
     ]
    }
   ],
   "source": [
    "y = float(input('Введите значение для переменyой y'))\n",
    "x = float(input('Введите значение для переменной x'))\n",
    "\n",
    "print(f'V ={np.log10(y + 0.95) + np.sin(np.power(x,4))}')"
   ]
  },
  {
   "cell_type": "code",
   "execution_count": null,
   "metadata": {},
   "outputs": [],
   "source": [
    "class MyClassTask1:\n",
    "    def __init__(self, y, x):\n",
    "        self.y = y\n",
    "        self.x = x\n",
    "    def calculate_V(self):\n",
    "         print(f'V ={np.log10(y + 0.95) + np.sin(np.power(x,4))}')"
   ]
  },
  {
   "cell_type": "code",
   "execution_count": null,
   "metadata": {},
   "outputs": [
    {
     "name": "stdout",
     "output_type": "stream",
     "text": [
      "V =2.1088842108278874\n"
     ]
    }
   ],
   "source": [
    "y = float(input('Введите значение для переменyой y'))\n",
    "x = float(input('Введите значение для переменной x'))\n",
    "\n",
    "my_class = MyClassTask1(y,x)\n",
    "my_class.calculate_V()"
   ]
  },
  {
   "cell_type": "code",
   "execution_count": 4,
   "metadata": {},
   "outputs": [
    {
     "name": "stdout",
     "output_type": "stream",
     "text": [
      "U =263705702.1403974\n"
     ]
    }
   ],
   "source": [
    "k = float(input('Введите значение для переменной k'))\n",
    "y = float(input('Введите значение для переменной y'))\n",
    "x = float(input('Введите значение для переменной x'))\n",
    "\n",
    "print(f'U ={np.exp(y) + 7.355 * np.power(k,7) + np.sin(np.power(x,2))}')"
   ]
  },
  {
   "cell_type": "code",
   "execution_count": 5,
   "metadata": {},
   "outputs": [],
   "source": [
    "class MyClassTask1:\n",
    "    def __init__(self, k, x):\n",
    "        self.k = k\n",
    "        self.x = x\n",
    "\n",
    "    def calculate_U(self):\n",
    "        print(f'U ={np.exp(y) + 7.355 * np.power(k,7) + np.sin(np.power(x,2))}')"
   ]
  },
  {
   "cell_type": "code",
   "execution_count": 6,
   "metadata": {},
   "outputs": [
    {
     "name": "stdout",
     "output_type": "stream",
     "text": [
      "U =263705702.1403974\n"
     ]
    }
   ],
   "source": [
    "k = float(input('Введите значение для переменной k'))\n",
    "y = float(input('Введите значение для переменной y'))\n",
    "x = float(input('Введите значение для переменной x'))\n",
    "\n",
    "my_class = MyClassTask1(k,x)\n",
    "my_class.calculate_U()"
   ]
  },
  {
   "cell_type": "code",
   "execution_count": 7,
   "metadata": {},
   "outputs": [
    {
     "name": "stdout",
     "output_type": "stream",
     "text": [
      "S =349575143.09148026\n"
     ]
    }
   ],
   "source": [
    "y = float(input('Введите значение для переменной y'))\n",
    "x = float(input('Введите значение для переменной x'))\n",
    "\n",
    "print(f'S ={9.756 * np.power(y,7) + 2 * np.tan(np.power(x,4))}')"
   ]
  },
  {
   "cell_type": "code",
   "execution_count": 8,
   "metadata": {},
   "outputs": [],
   "source": [
    "class MyClassTask1:\n",
    "    def __init__(self, y, x):\n",
    "        self.y = y\n",
    "        self.x = x\n",
    "\n",
    "    def calculate_S(self):\n",
    "        print(f'S ={9.756 * np.power(y,7) + 2 * np.tan(np.power(x,4))}')"
   ]
  },
  {
   "cell_type": "code",
   "execution_count": 9,
   "metadata": {},
   "outputs": [
    {
     "name": "stdout",
     "output_type": "stream",
     "text": [
      "S =349575143.09148026\n"
     ]
    }
   ],
   "source": [
    "y = float(input('Введите значение для переменной y'))\n",
    "x = float(input('Введите значение для переменной x'))\n",
    "\n",
    "my_class = MyClassTask1(y,x)\n",
    "my_class.calculate_S()"
   ]
  },
  {
   "cell_type": "code",
   "execution_count": null,
   "metadata": {},
   "outputs": [
    {
     "name": "stdout",
     "output_type": "stream",
     "text": [
      "K =1017.5711680636888\n"
     ]
    }
   ],
   "source": [
    "t = float(input('Введите значение для переменной t'))\n",
    "x = float(input('Введите значение для переменной x'))\n",
    "\n",
    "print(f'K ={7 * np.power(t,2) + 3 * np.sin(np.power(x,3)) + 9.2}')"
   ]
  },
  {
   "cell_type": "code",
   "execution_count": null,
   "metadata": {},
   "outputs": [],
   "source": [
    "class MyClassTask1:\n",
    "    def __init__(self, t, x):\n",
    "        self.t = t\n",
    "        self.x = x\n",
    "\n",
    "    def calculate_K(self):\n",
    "        print(f'K ={7 * np.power(t,2) + 3 * np.sin(np.power(x,3)) + 9.2}')"
   ]
  },
  {
   "cell_type": "code",
   "execution_count": null,
   "metadata": {},
   "outputs": [
    {
     "name": "stdout",
     "output_type": "stream",
     "text": [
      "K =1017.5711680636888\n"
     ]
    }
   ],
   "source": [
    "t = float(input('Введите значение для переменной t'))\n",
    "x = float(input('Введите значение для переменной x'))\n",
    "\n",
    "my_class = MyClassTask1(t,x)\n",
    "my_class.calculate_K()"
   ]
  },
  {
   "cell_type": "code",
   "execution_count": null,
   "metadata": {},
   "outputs": [
    {
     "name": "stdout",
     "output_type": "stream",
     "text": [
      "E =21.02379604162864\n"
     ]
    }
   ],
   "source": [
    "y = float(input('Введите значение для переменной y'))\n",
    "\n",
    "print(f'E ={np.sqrt(np.abs(3 * np.power(y,2) + 0.5 * y + 4))}')"
   ]
  },
  {
   "cell_type": "code",
   "execution_count": null,
   "metadata": {},
   "outputs": [],
   "source": [
    "class MyClassTask1:\n",
    "    def __init__(self, y):\n",
    "        self.y = y\n",
    "\n",
    "    def calculate_E(self):\n",
    "        print(f'E ={np.sqrt(np.abs(3 * np.power(y,2) + 0.5 * y + 4))}')"
   ]
  },
  {
   "cell_type": "code",
   "execution_count": null,
   "metadata": {},
   "outputs": [
    {
     "name": "stdout",
     "output_type": "stream",
     "text": [
      "E =21.02379604162864\n"
     ]
    }
   ],
   "source": [
    "y = float(input('Введите значение для переменной y'))\n",
    "\n",
    "my_class = MyClassTask1(y)\n",
    "my_class.calculate_E() "
   ]
  },
  {
   "cell_type": "code",
   "execution_count": 10,
   "metadata": {},
   "outputs": [
    {
     "name": "stdout",
     "output_type": "stream",
     "text": [
      "R =162757.31014455587\n"
     ]
    }
   ],
   "source": [
    "y = float(input('Введите значение для переменной y'))\n",
    "x = float(input('Введите значение для переменной x'))\n",
    "\n",
    "print(f'R ={np.abs(np.sqrt(np.sin(np.power(y,2)) + 6.835)) + np.exp(x)}')"
   ]
  },
  {
   "cell_type": "code",
   "execution_count": null,
   "metadata": {},
   "outputs": [],
   "source": [
    "class MyClassTask1:\n",
    "    def __init__(self, y, x):\n",
    "        self.y = y\n",
    "        self.x = x\n",
    "\n",
    "    def calculate_R(self):\n",
    "        print(f'R ={np.abs(np.sqrt(np.sin(np.power(y,2)) + 6.835)) + np.exp(x)}')"
   ]
  },
  {
   "cell_type": "code",
   "execution_count": 12,
   "metadata": {},
   "outputs": [
    {
     "name": "stdout",
     "output_type": "stream",
     "text": [
      "R =162757.31014455587\n"
     ]
    }
   ],
   "source": [
    "y = float(input('Введите значение для переменной y'))\n",
    "x = float(input('Введите значение для переменной x'))\n",
    "\n",
    "my_class = MyClassTask1(y,x)\n",
    "my_class.calculate_R()"
   ]
  },
  {
   "cell_type": "code",
   "execution_count": null,
   "metadata": {},
   "outputs": [
    {
     "name": "stdout",
     "output_type": "stream",
     "text": [
      "H =-30.626919978760707\n"
     ]
    }
   ],
   "source": [
    "y = float(input('Введите значение для переменной y'))\n",
    "\n",
    "print(f'H ={np.sin(np.power(y,2)) - 2.8 * y + np.sqrt(np.abs(y))}')"
   ]
  },
  {
   "cell_type": "code",
   "execution_count": null,
   "metadata": {},
   "outputs": [],
   "source": [
    "class MyClassTask1:\n",
    "    def __init__(self, y):\n",
    "        self.y = y\n",
    "\n",
    "    def calculate_H(self):\n",
    "        print(f'H ={np.sin(np.power(y,2)) - 2.8 * y + np.sqrt(np.abs(y))}')"
   ]
  },
  {
   "cell_type": "code",
   "execution_count": null,
   "metadata": {},
   "outputs": [
    {
     "name": "stdout",
     "output_type": "stream",
     "text": [
      "H =-30.626919978760707\n"
     ]
    }
   ],
   "source": [
    "y = float(input('Введите значение для переменной y'))\n",
    "\n",
    "my_class = MyClassTask1(y)\n",
    "my_class.calculate_H()"
   ]
  },
  {
   "cell_type": "code",
   "execution_count": null,
   "metadata": {},
   "outputs": [
    {
     "name": "stdout",
     "output_type": "stream",
     "text": [
      "S =9.017705548320187\n"
     ]
    }
   ],
   "source": [
    "y = float(input('Введите значение для переменной y'))\n",
    "\n",
    "print(f'S ={np.sqrt(np.cos(np.power(y,2)) * 4) + 7.151}')"
   ]
  },
  {
   "cell_type": "code",
   "execution_count": null,
   "metadata": {},
   "outputs": [],
   "source": [
    "class MyClassTask1:\n",
    "    def __init__(self, y):\n",
    "        self.y = y\n",
    "\n",
    "    def calculate_S(self):\n",
    "        print(f'S ={np.sqrt(np.cos(np.power(y,2)) * 4) + 7.151}')"
   ]
  },
  {
   "cell_type": "code",
   "execution_count": null,
   "metadata": {},
   "outputs": [
    {
     "name": "stdout",
     "output_type": "stream",
     "text": [
      "S =9.017705548320187\n"
     ]
    }
   ],
   "source": [
    "y = float(input('Введите значение для переменной y'))\n",
    "\n",
    "my_class = MyClassTask1(y)\n",
    "my_class.calculate_S()"
   ]
  },
  {
   "cell_type": "code",
   "execution_count": null,
   "metadata": {},
   "outputs": [
    {
     "name": "stdout",
     "output_type": "stream",
     "text": [
      "N =435.605551275464\n"
     ]
    }
   ],
   "source": [
    "y = float(input('Введите значение для переменной y'))\n",
    "\n",
    "print(f'N ={3 * np.power(y,2) + np.sqrt(y + 1)}')"
   ]
  },
  {
   "cell_type": "code",
   "execution_count": null,
   "metadata": {},
   "outputs": [],
   "source": [
    "class MyClassTask1:\n",
    "    def __init__(self, y):\n",
    "        self.y = y\n",
    "\n",
    "    def calculate_N(self):\n",
    "        print(f'N ={3 * np.power(y,2) + np.sqrt(y + 1)}')"
   ]
  },
  {
   "cell_type": "code",
   "execution_count": null,
   "metadata": {},
   "outputs": [
    {
     "name": "stdout",
     "output_type": "stream",
     "text": [
      "N =435.605551275464\n"
     ]
    }
   ],
   "source": [
    "y = float(input('Введите значение для переменной y'))\n",
    "\n",
    "my_class = MyClassTask1(y)\n",
    "my_class.calculate_N()"
   ]
  },
  {
   "cell_type": "code",
   "execution_count": null,
   "metadata": {},
   "outputs": [
    {
     "name": "stdout",
     "output_type": "stream",
     "text": [
      "Z =5225.581245772583\n"
     ]
    }
   ],
   "source": [
    "y = float(input('Введите значение для переменной y'))\n",
    "\n",
    "print(f'Z ={3 * np.power(y,3) + np.sqrt(np.power(y,3) + 1)}')"
   ]
  },
  {
   "cell_type": "code",
   "execution_count": null,
   "metadata": {},
   "outputs": [],
   "source": [
    "class MyClassTask1:\n",
    "    def __init__(self, y):\n",
    "        self.y = y\n",
    "\n",
    "    def calculate_Z(self):\n",
    "        print(f'Z ={3 * np.power(y,3) + np.sqrt(np.power(y,3) + 1)}')"
   ]
  },
  {
   "cell_type": "code",
   "execution_count": null,
   "metadata": {},
   "outputs": [
    {
     "name": "stdout",
     "output_type": "stream",
     "text": [
      "Z =5225.581245772583\n"
     ]
    }
   ],
   "source": [
    "y = float(input('Введите значение для переменной y'))\n",
    "\n",
    "my_class = MyClassTask1(y)\n",
    "my_class.calculate_Z()"
   ]
  },
  {
   "cell_type": "code",
   "execution_count": null,
   "metadata": {},
   "outputs": [
    {
     "name": "stdout",
     "output_type": "stream",
     "text": [
      "P =500.71500876246955\n"
     ]
    }
   ],
   "source": [
    "n = float(input('Введите значение для переменной n'))\n",
    "y = float(input('Введите значение для переменной y'))\n",
    "g = float(input('Введитt значение для переменной g'))\n",
    "\n",
    "print(f'P ={n * np.sqrt(np.power(y,3) + 1.09 * g)}')"
   ]
  },
  {
   "cell_type": "code",
   "execution_count": null,
   "metadata": {},
   "outputs": [],
   "source": [
    "class MyClassTask1:\n",
    "    def __init__(self, n, y, g):\n",
    "        self.n = n\n",
    "        self.y = y\n",
    "        self.g = g\n",
    "\n",
    "    def calculate_P(self):\n",
    "        print(f'P ={n * np.sqrt(np.power(y,3) + 1.09 * g)}')"
   ]
  },
  {
   "cell_type": "code",
   "execution_count": null,
   "metadata": {},
   "outputs": [
    {
     "name": "stdout",
     "output_type": "stream",
     "text": [
      "P =500.71500876246955\n"
     ]
    }
   ],
   "source": [
    "n = float(input('Введите значение для переменной n'))\n",
    "y = float(input('Введите значение для переменной y'))\n",
    "g = float(input('Введитt значение для переменной g'))\n",
    "\n",
    "my_class = MyClassTask1(n,y,g)\n",
    "my_class.calculate_P()"
   ]
  },
  {
   "cell_type": "code",
   "execution_count": null,
   "metadata": {},
   "outputs": [
    {
     "name": "stdout",
     "output_type": "stream",
     "text": [
      "U =26489122130.735718\n"
     ]
    }
   ],
   "source": [
    "k = float(input('Введите значение для переменной k'))\n",
    "y = float(input('Введите значение для переменной y'))\n",
    "x = float(input('Введите значение для переменной x'))\n",
    "\n",
    "print(f'U ={np.exp(k + y) + np.tan(x * np.sqrt(y))}')"
   ]
  },
  {
   "cell_type": "code",
   "execution_count": null,
   "metadata": {},
   "outputs": [],
   "source": [
    "class MyClassTask1:\n",
    "    def __init__(self, k, y, x):\n",
    "        self.k = k\n",
    "        self.y = y\n",
    "        self.x = x\n",
    "\n",
    "    def calculate_U(self):\n",
    "        print(f'U ={np.exp(k + y) + np.tan(x * np.sqrt(y))}')"
   ]
  },
  {
   "cell_type": "code",
   "execution_count": null,
   "metadata": {},
   "outputs": [
    {
     "name": "stdout",
     "output_type": "stream",
     "text": [
      "U =26489122130.735718\n"
     ]
    }
   ],
   "source": [
    "k = float(input('Введите значение для переменной k'))\n",
    "y = float(input('Введите значение для переменной y'))\n",
    "x = float(input('Введите значение для переменной x'))\n",
    "\n",
    "my_class = MyClassTask1(k,y,x)\n",
    "my_class.calculate_U()"
   ]
  },
  {
   "cell_type": "code",
   "execution_count": null,
   "metadata": {},
   "outputs": [
    {
     "name": "stdout",
     "output_type": "stream",
     "text": [
      "P =39840509.197576225\n"
     ]
    }
   ],
   "source": [
    "y = float(input('Введите значение для переменной y'))\n",
    "h = float(input('Введите значение для переменной h'))\n",
    "\n",
    "print(f'P ={np.exp(y + 5.5) + 9.1 * np.power(h,3)}')"
   ]
  },
  {
   "cell_type": "code",
   "execution_count": null,
   "metadata": {},
   "outputs": [],
   "source": [
    "class MyClassTask1:\n",
    "    def __init__(self, y, h):\n",
    "        self.y = y\n",
    "        self.h = h\n",
    "\n",
    "    def calculate_P(self):\n",
    "        print(f'P ={np.exp(y + 5.5) + 9.1 * np.power(h,3)}')"
   ]
  },
  {
   "cell_type": "code",
   "execution_count": null,
   "metadata": {},
   "outputs": [
    {
     "name": "stdout",
     "output_type": "stream",
     "text": [
      "P =39840509.197576225\n"
     ]
    }
   ],
   "source": [
    "y = float(input('Введите значение для переменной y'))\n",
    "h = float(input('Введите значение для переменной h'))\n",
    "\n",
    "my_class = MyClassTask1(y,h)\n",
    "my_class.calculate_P()"
   ]
  },
  {
   "cell_type": "code",
   "execution_count": null,
   "metadata": {},
   "outputs": [
    {
     "name": "stdout",
     "output_type": "stream",
     "text": [
      "T =-2.2318749127069295\n"
     ]
    }
   ],
   "source": [
    "u = float(input('Введите значение для переменной u'))\n",
    "y = float(input('Введите значение для переменной y'))\n",
    "x = float(input('Введите значение для переменной x'))\n",
    "\n",
    "print(f'T ={np.sin(2 * u) * np.log10(2 * np.power(y,2) + np.sqrt(x))}')"
   ]
  },
  {
   "cell_type": "code",
   "execution_count": null,
   "metadata": {},
   "outputs": [
    {
     "name": "stdout",
     "output_type": "stream",
     "text": [
      "G =26489122129.3069\n"
     ]
    }
   ],
   "source": [
    "y = float(input('Введите значение для переменной y'))\n",
    "f = float(input('Введите значение для переменной f'))\n",
    "\n",
    "print(f'G ={np.exp(2 * y) + np.sin(f)}')"
   ]
  },
  {
   "cell_type": "code",
   "execution_count": null,
   "metadata": {},
   "outputs": [
    {
     "name": "stdout",
     "output_type": "stream",
     "text": [
      "F =1.7373503358763946\n"
     ]
    }
   ],
   "source": [
    "y =float(input('Введите значение для переменной y'))\n",
    "\n",
    "print(f'F ={2 * np.sin(0.214 * np.power(y,5) + 1)}')"
   ]
  },
  {
   "cell_type": "code",
   "execution_count": null,
   "metadata": {},
   "outputs": [],
   "source": [
    "class MyClassTask1:\n",
    "    def __init__(self, y):\n",
    "        self.y = y\n",
    "\n",
    "    def calculate_F(self):\n",
    "        print(f'F ={2 * np.sin(0.214 * np.power(y,5) + 1)}')"
   ]
  },
  {
   "cell_type": "code",
   "execution_count": null,
   "metadata": {},
   "outputs": [
    {
     "name": "stdout",
     "output_type": "stream",
     "text": [
      "F =1.7373503358763946\n"
     ]
    }
   ],
   "source": [
    "y =float(input('Введите значение для переменной y'))\n",
    "\n",
    "my_class = MyClassTask1(y)\n",
    "my_class.calculate_F()"
   ]
  },
  {
   "cell_type": "code",
   "execution_count": null,
   "metadata": {},
   "outputs": [
    {
     "name": "stdout",
     "output_type": "stream",
     "text": [
      "G =26489122129.35245\n"
     ]
    }
   ],
   "source": [
    "f = float(input('Введите значение для переменной f'))\n",
    "\n",
    "print(f'G ={np.exp(2 * y) + np.sin(np.power(f,2))}')"
   ]
  },
  {
   "cell_type": "code",
   "execution_count": null,
   "metadata": {},
   "outputs": [],
   "source": [
    "class MyClassTask1:\n",
    "    def __init__(self, f):\n",
    "        self.f = f\n",
    "\n",
    "    def calculate_G(self):\n",
    "        print(f'G ={np.exp(2 * y) + np.sin(np.power(f,2))}')"
   ]
  },
  {
   "cell_type": "code",
   "execution_count": null,
   "metadata": {},
   "outputs": [
    {
     "name": "stdout",
     "output_type": "stream",
     "text": [
      "G =26489122129.35245\n"
     ]
    }
   ],
   "source": [
    "f = float(input('Введите значение для переменной f'))\n",
    "\n",
    "my_class = MyClassTask1(f)\n",
    "my_class.calculate_G()"
   ]
  },
  {
   "cell_type": "code",
   "execution_count": null,
   "metadata": {},
   "outputs": [
    {
     "name": "stdout",
     "output_type": "stream",
     "text": [
      "Z =0.5419197235033456\n"
     ]
    }
   ],
   "source": [
    "p = float(input('Введите значение для переменной p'))\n",
    "\n",
    "print(f'Z ={np.sin((np.power(p,2) + 0.4) ** 3)}')"
   ]
  },
  {
   "cell_type": "code",
   "execution_count": null,
   "metadata": {},
   "outputs": [],
   "source": [
    "class MyClassTask1:\n",
    "    def __init__(self, p):\n",
    "        self.p = p\n",
    "\n",
    "    def calculate_Z(self):\n",
    "        print(f'Z ={np.sin((np.power(p,2) + 0.4) ** 3)}')"
   ]
  },
  {
   "cell_type": "code",
   "execution_count": null,
   "metadata": {},
   "outputs": [
    {
     "name": "stdout",
     "output_type": "stream",
     "text": [
      "Z =0.5419197235033456\n"
     ]
    }
   ],
   "source": [
    "p = float(input('Введите значение для переменной p'))\n",
    "\n",
    "my_class = MyClassTask1(p)\n",
    "my_class.calculate_Z()"
   ]
  },
  {
   "cell_type": "code",
   "execution_count": null,
   "metadata": {},
   "outputs": [
    {
     "name": "stdout",
     "output_type": "stream",
     "text": [
      "W =26489122141.56761\n"
     ]
    }
   ],
   "source": [
    "v = float(input('Введите значение для переменной v'))\n",
    "y = float(input('Введите значение для переменной y'))\n",
    "x = float(input('Введите значение для переменной x'))\n",
    "\n",
    "print(f'W ={1.03 * v + np.exp(2 * y) + np.tan(np.abs(x))}')"
   ]
  },
  {
   "cell_type": "code",
   "execution_count": null,
   "metadata": {},
   "outputs": [],
   "source": [
    "class MyClassTask1:\n",
    "    def __init__(self, v, y, x):\n",
    "        self.v = v\n",
    "        self.y = y\n",
    "        self.x = x\n",
    "\n",
    "    def calculate_W(self):\n",
    "        print(f'W ={1.03 * v + np.exp(2 * y) + np.tan(np.abs(x))}')"
   ]
  },
  {
   "cell_type": "code",
   "execution_count": null,
   "metadata": {},
   "outputs": [
    {
     "name": "stdout",
     "output_type": "stream",
     "text": [
      "W =26489122141.56761\n"
     ]
    }
   ],
   "source": [
    "v = float(input('Введите значение для переменной v'))\n",
    "y = float(input('Введите значение для переменной y'))\n",
    "x = float(input('Введите значение для переменной x'))\n",
    "\n",
    "my_class = MyClassTask1(v,y,x)\n",
    "my_class.calculate_W()"
   ]
  },
  {
   "cell_type": "code",
   "execution_count": null,
   "metadata": {},
   "outputs": [
    {
     "name": "stdout",
     "output_type": "stream",
     "text": [
      "T =26489122138.607033\n"
     ]
    }
   ],
   "source": [
    "y = float(input('Введите значение для переменной y'))\n",
    "h = float(input('Введите значение для переменной h'))\n",
    "\n",
    "print(f'T ={np.exp(y + h) + np.sqrt(np.abs(6.4 * y))}')"
   ]
  },
  {
   "cell_type": "code",
   "execution_count": null,
   "metadata": {},
   "outputs": [],
   "source": [
    "class MyClassTask1:\n",
    "    def __init__(self, y, h):\n",
    "        self.y = y\n",
    "        self.h = h\n",
    "\n",
    "    def calculate_T(self):\n",
    "        print(f'T ={np.exp(y + h) + np.sqrt(np.abs(6.4 * y))}')"
   ]
  },
  {
   "cell_type": "code",
   "execution_count": null,
   "metadata": {},
   "outputs": [
    {
     "name": "stdout",
     "output_type": "stream",
     "text": [
      "T =26489122138.607033\n"
     ]
    }
   ],
   "source": [
    "y = float(input('Введите значение для переменной y'))\n",
    "h = float(input('Введите значение для переменной h'))\n",
    "\n",
    "my_class = MyClassTask1(y,h)\n",
    "my_class.calculate_T()"
   ]
  },
  {
   "cell_type": "code",
   "execution_count": null,
   "metadata": {},
   "outputs": [
    {
     "name": "stdout",
     "output_type": "stream",
     "text": [
      "N =435.605551275464\n"
     ]
    }
   ],
   "source": [
    "y = float(input('Введите значение для переменной y'))\n",
    "\n",
    "print(f'N ={3 * np.power(y,2) + np.sqrt(np.abs(y + 1))}')"
   ]
  },
  {
   "cell_type": "code",
   "execution_count": null,
   "metadata": {},
   "outputs": [],
   "source": [
    "class MyClassTask1:\n",
    "    def __init__(self, y):\n",
    "        self.y = y\n",
    "\n",
    "    def calculater_N(self):\n",
    "        print(f'N ={3 * np.power(y,2) + np.sqrt(np.abs(y + 1))}')"
   ]
  },
  {
   "cell_type": "code",
   "execution_count": null,
   "metadata": {},
   "outputs": [
    {
     "name": "stdout",
     "output_type": "stream",
     "text": [
      "N =435.605551275464\n"
     ]
    }
   ],
   "source": [
    "y = float(input('Введите значение для переменной y'))\n",
    "\n",
    "my_class = MyClassTask1(y)\n",
    "my_class.calculater_N()"
   ]
  },
  {
   "cell_type": "code",
   "execution_count": null,
   "metadata": {},
   "outputs": [
    {
     "name": "stdout",
     "output_type": "stream",
     "text": [
      "W =26489122125.98015\n"
     ]
    }
   ],
   "source": [
    "y = float(input('Введите значение для переменной y'))\n",
    "r = float(input('Введите значение для переменной r'))\n",
    "\n",
    "print(f'W ={np.exp(y + r) + 7.2 * np.sin(r)}')"
   ]
  },
  {
   "cell_type": "code",
   "execution_count": null,
   "metadata": {},
   "outputs": [],
   "source": [
    "class MyClassTask1:\n",
    "    def __init__(self, y, r):\n",
    "        self.y = y\n",
    "        self.r = r\n",
    "\n",
    "    def calculate_W(self):\n",
    "        print(f'W ={np.exp(y + r) + 7.2 * np.sin(r)}')"
   ]
  },
  {
   "cell_type": "code",
   "execution_count": null,
   "metadata": {},
   "outputs": [
    {
     "name": "stdout",
     "output_type": "stream",
     "text": [
      "W =26489122125.98015\n"
     ]
    }
   ],
   "source": [
    "y = float(input('Введите значение для переменной y'))\n",
    "r = float(input('Введите значение для переменной r'))\n",
    "\n",
    "my_class = MyClassTask1(y,r)\n",
    "my_class.calculate_W()"
   ]
  }
 ],
 "metadata": {
  "kernelspec": {
   "display_name": "base",
   "language": "python",
   "name": "python3"
  },
  "language_info": {
   "codemirror_mode": {
    "name": "ipython",
    "version": 3
   },
   "file_extension": ".py",
   "mimetype": "text/x-python",
   "name": "python",
   "nbconvert_exporter": "python",
   "pygments_lexer": "ipython3",
   "version": "3.12.7"
  }
 },
 "nbformat": 4,
 "nbformat_minor": 2
}
